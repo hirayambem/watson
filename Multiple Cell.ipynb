{
    "cells": [
        {
            "cell_type": "markdown",
            "metadata": {},
            "source": "#  My Jupyter Notebook on IBM Watson Studio"
        },
        {
            "cell_type": "markdown",
            "metadata": {},
            "source": "HIRA YAMBEM <br>\nDATA SCIENTIST "
        },
        {
            "cell_type": "markdown",
            "metadata": {},
            "source": "_I am interested in data science because it helps me in understanding the complete story behind the data set._"
        },
        {
            "cell_type": "markdown",
            "metadata": {},
            "source": "### In the below cell, code to add numerical 2 to numerical 3 and the below line gives us the output"
        },
        {
            "cell_type": "code",
            "execution_count": 1,
            "metadata": {},
            "outputs": [
                {
                    "data": {
                        "text/plain": "4"
                    },
                    "execution_count": 1,
                    "metadata": {},
                    "output_type": "execute_result"
                }
            ],
            "source": "2+3"
        },
        {
            "cell_type": "markdown",
            "metadata": {},
            "source": "Horizontal rule <br>\n********\nHyperlink <br>\n[![IMAGE ALT TEXT HERE](http://img.youtube.com/vi/GoQy0SFo0wE/0.jpg)](http://www.youtube.com/watch?v=GoQy0SFo0wE)\n<br>\ncode/syntax highlighting <br>\n```python\ns = \"Python syntax highlighting\"\nprint s\n```\n<br>\n<dl>\n  <dt>HTML</dt>\n  <dd>HTML EXAMPLE</dd>\n\n  <dt>Markdown in HTML</dt>\n  <dd>Does *not* work **very** well. Use HTML <em>tags</em>.</dd>\n</dl>"
        }
    ],
    "metadata": {
        "kernelspec": {
            "display_name": "Python 3.8",
            "language": "python",
            "name": "python3"
        },
        "language_info": {
            "codemirror_mode": {
                "name": "ipython",
                "version": 3
            },
            "file_extension": ".py",
            "mimetype": "text/x-python",
            "name": "python",
            "nbconvert_exporter": "python",
            "pygments_lexer": "ipython3",
            "version": "3.8.12"
        }
    },
    "nbformat": 4,
    "nbformat_minor": 1
}